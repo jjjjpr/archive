{
  "nbformat": 4,
  "nbformat_minor": 0,
  "metadata": {
    "colab": {
      "provenance": [],
      "authorship_tag": "ABX9TyOvsJpBwi5znjUl8ccM6Rlh",
      "include_colab_link": true
    },
    "kernelspec": {
      "name": "python3",
      "display_name": "Python 3"
    },
    "language_info": {
      "name": "python"
    }
  },
  "cells": [
    {
      "cell_type": "markdown",
      "metadata": {
        "id": "view-in-github",
        "colab_type": "text"
      },
      "source": [
        "<a href=\"https://colab.research.google.com/github/jjjjpr/archive/blob/main/regular_expression_codes.ipynb\" target=\"_parent\"><img src=\"https://colab.research.google.com/assets/colab-badge.svg\" alt=\"Open In Colab\"/></a>"
      ]
    },
    {
      "cell_type": "code",
      "execution_count": null,
      "metadata": {
        "id": "rMKgHR2Rf8Cp"
      },
      "outputs": [],
      "source": [
        "#Try to extract phone numbers\n",
        "\n",
        "\\d{2,3}[- ]?\\d{3,4}[- ]?\\d{4}"
      ]
    },
    {
      "cell_type": "code",
      "source": [],
      "metadata": {
        "id": "8gN8vVDBgGfM"
      },
      "execution_count": null,
      "outputs": []
    }
  ]
}